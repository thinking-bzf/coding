{
 "metadata": {
  "language_info": {
   "codemirror_mode": {
    "name": "ipython",
    "version": 3
   },
   "file_extension": ".py",
   "mimetype": "text/x-python",
   "name": "python",
   "nbconvert_exporter": "python",
   "pygments_lexer": "ipython3",
   "version": "3.7.7-final"
  },
  "orig_nbformat": 2,
  "kernelspec": {
   "name": "python_defaultSpec_1599455004907",
   "display_name": "Python 3.7.7 64-bit ('myenv': conda)"
  }
 },
 "nbformat": 4,
 "nbformat_minor": 2,
 "cells": [
  {
   "cell_type": "code",
   "execution_count": 3,
   "metadata": {
    "tags": []
   },
   "outputs": [
    {
     "output_type": "stream",
     "name": "stdout",
     "text": "<Element html at 0x1f9a0cd5a48>\n"
    }
   ],
   "source": [
    "import requests\n",
    "from lxml import etree\n",
    "from bs4 import BeautifulSoup\n",
    "\n",
    "target = 'https://www.biqukan.com/38_38836/497783246.html'\n",
    "# # requests的get方法必须设置一个url 所谓目标的网址url\n",
    "# req = requests.get(url=target)\n",
    "# html = req.text\n",
    "# bf = BeautifulSoup(html, features=\"html.parser\")\n",
    "# texts = bf.find_all('div', class_='showtxt')\n",
    "# print(texts[0].text.replace('\\u00A0' * 2, '\\n\\n'))\n",
    "# server = 'https://www.biqukan.com/'\n",
    "# target = 'https://movie.douban.com/subject/30444960/?from=showing'\n",
    "# requests的get方法必须设置一个url 所谓目标的网址url\n",
    "req = requests.get(url=target)\n",
    "html = req.text\n",
    "html_obj = etree.HTML(html)\n",
    "print(html_obj)"
   ]
  }
 ]
}