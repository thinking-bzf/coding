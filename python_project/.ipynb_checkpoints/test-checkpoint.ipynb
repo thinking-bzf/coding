{
 "cells": [
  {
   "cell_type": "code",
   "execution_count": null,
   "id": "considerable-shore",
   "metadata": {},
   "outputs": [],
   "source": [
    "a = input()\n",
    "level = []\n",
    "for i in range(10):\n",
    "    level.append(input())\n",
    "final = \n",
    "flag = 1\n",
    "for i in range(10):\n",
    "    if a <= level[i]:\n",
    "        flag = 0\n",
    "        final = i + 1\n",
    "        break\n",
    "if not flag:\n",
    "    print(final)\n",
    "else:\n",
    "    print(\"GOOD\")"
   ]
  }
 ],
 "metadata": {
  "kernelspec": {
   "display_name": "Python 3",
   "language": "python",
   "name": "python3"
  },
  "language_info": {
   "codemirror_mode": {
    "name": "ipython",
    "version": 3
   },
   "file_extension": ".py",
   "mimetype": "text/x-python",
   "name": "python",
   "nbconvert_exporter": "python",
   "pygments_lexer": "ipython3",
   "version": "3.8.4"
  }
 },
 "nbformat": 4,
 "nbformat_minor": 5
}
