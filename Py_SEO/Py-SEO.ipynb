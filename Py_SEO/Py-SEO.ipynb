{
 "metadata": {
  "language_info": {
   "codemirror_mode": {
    "name": "ipython",
    "version": 3
   },
   "file_extension": ".py",
   "mimetype": "text/x-python",
   "name": "python",
   "nbconvert_exporter": "python",
   "pygments_lexer": "ipython3",
   "version": "3.8.4-final"
  },
  "orig_nbformat": 2,
  "kernelspec": {
   "name": "Python 3.8.4 64-bit",
   "display_name": "Python 3.8.4 64-bit",
   "metadata": {
    "interpreter": {
     "hash": "e922dd073470bdcc017ae3abd31d6491d6ed7bf31c1d559806e5511bfea88b81"
    }
   }
  }
 },
 "nbformat": 4,
 "nbformat_minor": 2,
 "cells": [
  {
   "source": [
    "# 16.python文件批量重命名和删除(os模块使用)"
   ],
   "cell_type": "markdown",
   "metadata": {}
  },
  {
   "source": [
    "## os模块常用函数\n"
   ],
   "cell_type": "markdown",
   "metadata": {}
  },
  {
   "cell_type": "code",
   "execution_count": null,
   "metadata": {},
   "outputs": [],
   "source": [
    "import os\n",
    "\n",
    "# .表示当前文件夹\n",
    "# ..上一级文件\n",
    "p = os.path.abspath('.vscode/launch.json')\n",
    "print(p)\n",
    "r = os.path.abspath('test/')\n",
    "print(r)\n",
    "\n",
    "# 获取文件名或文件夹名称\n",
    "print(os.path.basename(p))\n",
    "print(os.path.basename(r))\n",
    "\n",
    "# 返回当前文件或文件夹所在的文件夹名称 传入的是绝对路径则输出的也是绝对路径\n",
    "print(os.path.dirname(p))\n",
    "\n",
    "# 判断文件或文件夹是否存在,如果存在不符合命名规则的文件名则会返回False\n",
    "e = os.path.exists(p)\n",
    "print(e)\n",
    "\n",
    "# isdir 判断是否是文件夹 isfile判断路径是否是文件,文件夹或文件不存在时返回的时flase\n",
    "print(os.path.isdir(r))\n",
    "print(os.path.isfile(p))\n",
    "\n",
    "# join 文件路径拼接\n",
    "newfile = os.path.join(r,'os-domo.py')\n",
    "print(newfile)\n",
    "f = open(newfile,'w',encoding='utf-8')\n",
    "f.write('# -- coding: utf-8 -*-\\n')\n",
    "f.close()\n",
    "\n",
    "# 获取文件扩展名 splittext返回元组\n",
    "print(os.path.splitext(newfile)[1])\n",
    "\n"
   ]
  },
  {
   "source": [
    "## chdir 切换工作目录"
   ],
   "cell_type": "markdown",
   "metadata": {}
  },
  {
   "cell_type": "code",
   "execution_count": null,
   "metadata": {},
   "outputs": [],
   "source": [
    "import os\n",
    "# 在使用相对路径时工作问价夹改变后会导致找不到文件，因此需要改变目录\n",
    "\n",
    "# 由于该文件非py文件所以__file__无法得到\n",
    "# __file__得到当前py文件坐在目录,然后将得到的目录传给chdir切换目录\n",
    "# current_path = os.path.dirname(__file__)\n",
    "# os.chdir(current_path)\n",
    "\n",
    "text = open('test/1.txt',encoding='utf-8')\n",
    "t_content = text.read()\n",
    "text.close()\n",
    "print(t_content)"
   ]
  },
  {
   "source": [
    "## os其他函数的用法"
   ],
   "cell_type": "markdown",
   "metadata": {}
  },
  {
   "cell_type": "code",
   "execution_count": 2,
   "metadata": {},
   "outputs": [
    {
     "output_type": "stream",
     "name": "stdout",
     "text": [
      "c:\\Coding\n['c', 'C++', 'Html', 'Java', 'JavaScript', 'Java_web', 'pycharm_project', 'python_project', 'Py_Excel', 'Py_SEO', 'Py_web']\nc:\\Coding\\c 是一个文件夹\nc:\\Coding\\C++ 是一个文件夹\nc:\\Coding\\Html 是一个文件夹\nc:\\Coding\\Java 是一个文件夹\nc:\\Coding\\JavaScript 是一个文件夹\nc:\\Coding\\Java_web 是一个文件夹\nc:\\Coding\\pycharm_project 是一个文件夹\nc:\\Coding\\python_project 是一个文件夹\nc:\\Coding\\Py_Excel 是一个文件夹\nc:\\Coding\\Py_SEO 是一个文件夹\nc:\\Coding\\Py_web 是一个文件夹\n"
     ]
    }
   ],
   "source": [
    "import os\n",
    "# getcwd获取当前工作目录\n",
    "os.chdir('c:\\Coding') # 切换当前工作目录\n",
    "print(os.getcwd())\n",
    "\n",
    "# 列出指定路径里面的所有文件和文件夹 传入参数为空即为当前工作目录，不可以传入文件名\n",
    "path = 'c:\\Coding'\n",
    "List = os.listdir()\n",
    "print(List)\n",
    "\n",
    "for item in List:\n",
    "    item = os.path.join(path,item)\n",
    "    if os.path.isdir(item):\n",
    "        print(item,\"是一个文件夹\")\n",
    "    elif os.path.isfile(item):\n",
    "        print(item,\"是一个文件\")\n",
    "# 重命名\n",
    "os.rename('c:/Coding/Py_SEO/test/1.txt','c:/Coding/Py_SEO/test/hallo.txt')\n",
    "# 删除文件或文件夹\n",
    "os.remove('c:/Coding/Py_SEO/test/hallo.txt')"
   ]
  },
  {
   "cell_type": "code",
   "execution_count": 9,
   "metadata": {},
   "outputs": [
    {
     "output_type": "error",
     "ename": "AttributeError",
     "evalue": "'list' object has no attribute 'length'",
     "traceback": [
      "\u001b[1;31m---------------------------------------------------------------------------\u001b[0m",
      "\u001b[1;31mAttributeError\u001b[0m                            Traceback (most recent call last)",
      "\u001b[1;32m<ipython-input-9-2445488305c8>\u001b[0m in \u001b[0;36m<module>\u001b[1;34m\u001b[0m\n\u001b[0;32m      2\u001b[0m \u001b[0mlist\u001b[0m\u001b[1;33m(\u001b[0m\u001b[0mmap\u001b[0m\u001b[1;33m(\u001b[0m\u001b[1;32mlambda\u001b[0m \u001b[0mx\u001b[0m\u001b[1;33m:\u001b[0m \u001b[0mformat\u001b[0m\u001b[1;33m(\u001b[0m\u001b[0mx\u001b[0m\u001b[1;33m,\u001b[0m \u001b[1;34m'.3'\u001b[0m\u001b[1;33m)\u001b[0m\u001b[1;33m,\u001b[0m \u001b[0mAverageList\u001b[0m\u001b[1;33m)\u001b[0m\u001b[1;33m)\u001b[0m\u001b[1;33m\u001b[0m\u001b[1;33m\u001b[0m\u001b[0m\n\u001b[0;32m      3\u001b[0m \u001b[1;31m# AverageList\u001b[0m\u001b[1;33m\u001b[0m\u001b[1;33m\u001b[0m\u001b[1;33m\u001b[0m\u001b[0m\n\u001b[1;32m----> 4\u001b[1;33m \u001b[0mAverageList\u001b[0m\u001b[1;33m.\u001b[0m\u001b[0mlength\u001b[0m\u001b[1;33m\u001b[0m\u001b[1;33m\u001b[0m\u001b[0m\n\u001b[0m",
      "\u001b[1;31mAttributeError\u001b[0m: 'list' object has no attribute 'length'"
     ]
    }
   ],
   "source": [
    "AverageList=[1.22222,1.333333]\n",
    "list(map(lambda x: format(x, '.3'), AverageList))\n",
    "# AverageList\n",
    "AverageList.length\n"
   ]
  }
 ]
}