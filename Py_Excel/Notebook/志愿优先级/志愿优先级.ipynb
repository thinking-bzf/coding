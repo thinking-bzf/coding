{
 "metadata": {
  "language_info": {
   "codemirror_mode": {
    "name": "ipython",
    "version": 3
   },
   "file_extension": ".py",
   "mimetype": "text/x-python",
   "name": "python",
   "nbconvert_exporter": "python",
   "pygments_lexer": "ipython3",
   "version": 3
  },
  "orig_nbformat": 2
 },
 "nbformat": 4,
 "nbformat_minor": 2,
 "cells": [
  {
   "cell_type": "code",
   "execution_count": null,
   "metadata": {},
   "outputs": [],
   "source": [
    "import pandas as pd\n",
    "\n",
    "\n",
    "# a = input(\"输入文件名:\")\n",
    "# b = input(\"输入sheet名称:\")\n",
    "df = pd.read_excel(path + \"/\" + a, sheet_name = b)\n",
    "print(\"Creating Dataframe...\")\n",
    "# 制作第一张数据透视表作为基础\n",
    "dv = pd.pivot_table(\n",
    "    df, values=\"XM\", index=\"ZYDH1\",\n",
    "    aggfunc=\"count\").reset_index().rename(columns={\"ZYDH1\": \"ZYDH\"})\n",
    "dv = dv.rename(columns={\"XM\": \"志愿1\"})\n",
    "# 生成另外五张数据透视表并拼接\n",
    "List = [\"ZYDH2\", \"ZYDH3\", \"ZYDH4\", \"ZYDH5\", \"ZYDH6\"]\n",
    "i = 2\n",
    "for s in List:\n",
    "    dv1 = pd.pivot_table(\n",
    "        df, values=\"XM\", index=s,\n",
    "        aggfunc=\"count\").reset_index().rename(columns={s: \"ZYDH\"})\n",
    "    dv1 = dv1.rename(columns={\"XM\": \"志愿\" + str(i)})\n",
    "    i += 1\n",
    "    dv = pd.merge(dv, dv1, on=\"ZYDH\", how=\"outer\")\n",
    "dv = dv.fillna(0)\n",
    "dv[\"yxj\"] = dv.iloc[:, 1:7].apply(lambda x: x[\"志愿1\"] + x[\"志愿2\"] * 0.8 +\n",
    "                                  (x[\"志愿3\"] + x[\"志愿4\"]) * 0.6 +\n",
    "                                  (x[\"志愿5\"] + x[\"志愿6\"]) * 0.4,\n",
    "                                  axis=1)\n",
    "# 排序并在输出文件前对文件路径补充\n",
    "dv = dv.sort_values(by=\"yxj\", ascending=False)\n",
    "if a[-1] != 'x':\n",
    "    a = path + \"/finished/志愿指数_\" + a + \"x\"\n",
    "else:\n",
    "    a = path + \"/finished/志愿指数_\" + a\n",
    "print(\"Outing file\")\n",
    "dv.to_excel(a)\n",
    "print(\"Finished\")\n",
    "\n",
    "\n"
   ]
  }
 ]
}